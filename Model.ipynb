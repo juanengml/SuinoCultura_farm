{
  "nbformat": 4,
  "nbformat_minor": 0,
  "metadata": {
    "colab": {
      "name": "Model.ipynb",
      "provenance": [],
      "collapsed_sections": []
    },
    "kernelspec": {
      "name": "python3",
      "display_name": "Python 3"
    },
    "accelerator": "GPU"
  },
  "cells": [
    {
      "cell_type": "markdown",
      "metadata": {
        "id": "hGwSKL449pFY",
        "colab_type": "text"
      },
      "source": [
        "## Preparando dados de porcos e gatos"
      ]
    },
    {
      "cell_type": "code",
      "metadata": {
        "id": "9UA-yVII9iTF",
        "colab_type": "code",
        "outputId": "afad8b6e-1e99-4d36-bbb9-728e9b0bc47f",
        "colab": {
          "base_uri": "https://localhost:8080/",
          "height": 34
        }
      },
      "source": [
        "!ls"
      ],
      "execution_count": 2,
      "outputs": [
        {
          "output_type": "stream",
          "text": [
            "sample_data\n"
          ],
          "name": "stdout"
        }
      ]
    },
    {
      "cell_type": "code",
      "metadata": {
        "id": "yHHRZL5QVbA7",
        "colab_type": "code",
        "colab": {}
      },
      "source": [
        "from google.colab import drive\n",
        "drive.mount('/content/drive/')"
      ],
      "execution_count": 0,
      "outputs": []
    },
    {
      "cell_type": "code",
      "metadata": {
        "id": "0lW70ffyVldW",
        "colab_type": "code",
        "colab": {}
      },
      "source": [
        "from os import chdir\n",
        "chdir('drive/My Drive/classes/')\n",
        "\n"
      ],
      "execution_count": 0,
      "outputs": []
    },
    {
      "cell_type": "code",
      "metadata": {
        "id": "-aL0zsceV1Xe",
        "colab_type": "code",
        "colab": {
          "base_uri": "https://localhost:8080/",
          "height": 211
        },
        "outputId": "570c0974-1530-4c5d-ab42-57ca6c2b8460"
      },
      "source": [
        "!pip install --user tensorflow==1.2.0rc0 "
      ],
      "execution_count": 3,
      "outputs": [
        {
          "output_type": "stream",
          "text": [
            "Requirement already satisfied: tensorflow==1.2.0rc0 in /root/.local/lib/python3.6/site-packages (1.2.0rc0)\n",
            "Requirement already satisfied: html5lib==0.9999999 in /root/.local/lib/python3.6/site-packages (from tensorflow==1.2.0rc0) (0.9999999)\n",
            "Requirement already satisfied: numpy>=1.11.0 in /usr/local/lib/python3.6/dist-packages (from tensorflow==1.2.0rc0) (1.18.2)\n",
            "Requirement already satisfied: bleach==1.5.0 in /root/.local/lib/python3.6/site-packages (from tensorflow==1.2.0rc0) (1.5.0)\n",
            "Requirement already satisfied: protobuf>=3.2.0 in /usr/local/lib/python3.6/dist-packages (from tensorflow==1.2.0rc0) (3.10.0)\n",
            "Requirement already satisfied: werkzeug>=0.11.10 in /usr/local/lib/python3.6/dist-packages (from tensorflow==1.2.0rc0) (1.0.0)\n",
            "Requirement already satisfied: markdown==2.2.0 in /root/.local/lib/python3.6/site-packages (from tensorflow==1.2.0rc0) (2.2.0)\n",
            "Requirement already satisfied: six>=1.10.0 in /usr/local/lib/python3.6/dist-packages (from tensorflow==1.2.0rc0) (1.12.0)\n",
            "Requirement already satisfied: wheel>=0.26 in /usr/local/lib/python3.6/dist-packages (from tensorflow==1.2.0rc0) (0.34.2)\n",
            "Requirement already satisfied: setuptools in /usr/local/lib/python3.6/dist-packages (from protobuf>=3.2.0->tensorflow==1.2.0rc0) (46.0.0)\n"
          ],
          "name": "stdout"
        }
      ]
    },
    {
      "cell_type": "markdown",
      "metadata": {
        "id": "IjdzZYHi9wIR",
        "colab_type": "text"
      },
      "source": [
        "---\n",
        "\n",
        "## Importando bibliotecas e frameworks"
      ]
    },
    {
      "cell_type": "code",
      "metadata": {
        "id": "kz6gJtjV9lsS",
        "colab_type": "code",
        "colab": {}
      },
      "source": [
        "from __future__ import print_function, division\n",
        "\n",
        "import numpy as np\n",
        "import random\n",
        "import os\n",
        "import glob\n",
        "# https://opencv.org/\n",
        "!apt-get -qq install -y libsm6 libxext6 && pip install -q -U opencv-python\n",
        "import cv2\n",
        "import datetime\n",
        "import pandas as pd\n",
        "import time\n",
        "import h5py\n",
        "import csv\n",
        "from sklearn.model_selection import KFold, train_test_split\n",
        "from sklearn.metrics import log_loss, confusion_matrix\n",
        "from sklearn.utils import shuffle\n",
        "from PIL import Image, ImageChops, ImageOps\n",
        "import matplotlib.pyplot as plt\n",
        "from keras import backend as K\n",
        "from keras.callbacks import EarlyStopping, Callback\n",
        "from keras.utils import np_utils\n",
        "from keras.preprocessing.image import ImageDataGenerator, load_img, img_to_array\n",
        "from keras import optimizers\n",
        "from keras.models import Sequential, model_from_json\n",
        "from keras.layers import Convolution2D, MaxPooling2D, ZeroPadding2D, Activation, Dropout, Flatten, Dense"
      ],
      "execution_count": 0,
      "outputs": []
    },
    {
      "cell_type": "code",
      "metadata": {
        "id": "ZYhRLQtg_pXk",
        "colab_type": "code",
        "colab": {}
      },
      "source": [
        "from keras.models import Sequential\n",
        "from keras.layers import Conv2D\n",
        "from keras.layers import MaxPooling2D\n",
        "from keras.layers import Flatten\n",
        "from keras.layers import Dense\n"
      ],
      "execution_count": 0,
      "outputs": []
    },
    {
      "cell_type": "code",
      "metadata": {
        "id": "hpb0p8UoWEX2",
        "colab_type": "code",
        "colab": {
          "base_uri": "https://localhost:8080/",
          "height": 34
        },
        "outputId": "70c19d62-6e31-482c-d847-d7897e269b4d"
      },
      "source": [
        "import tensorflow as tf\n",
        "tf.__version__"
      ],
      "execution_count": 7,
      "outputs": [
        {
          "output_type": "execute_result",
          "data": {
            "text/plain": [
              "'1.2.0-rc0'"
            ]
          },
          "metadata": {
            "tags": []
          },
          "execution_count": 7
        }
      ]
    },
    {
      "cell_type": "markdown",
      "metadata": {
        "id": "H6xpDuVTh4AN",
        "colab_type": "text"
      },
      "source": [
        "## Criando Modelo"
      ]
    },
    {
      "cell_type": "code",
      "metadata": {
        "id": "x6xupIoZ94cr",
        "colab_type": "code",
        "colab": {}
      },
      "source": [
        "clf = Sequential()\n",
        "clf.add(Conv2D(32, (3, 3), input_shape=(64, 64, 3), activation=\"relu\"))\n",
        "clf.add(MaxPooling2D(pool_size = (2, 2)))\n",
        "clf.add(Conv2D(32, (3, 3), activation = 'relu'))\n",
        "clf.add(MaxPooling2D(pool_size = (2, 2)))\n",
        "clf.add(Flatten())\n",
        "clf.add(Dense(activation=\"relu\", units=128))\n",
        "clf.add(Dense(activation=\"sigmoid\", units=1))\n",
        "clf.compile(optimizer = 'adam', loss = 'binary_crossentropy', metrics = ['accuracy'])"
      ],
      "execution_count": 0,
      "outputs": []
    },
    {
      "cell_type": "code",
      "metadata": {
        "id": "qVbCntnV_8_N",
        "colab_type": "code",
        "colab": {}
      },
      "source": [
        ""
      ],
      "execution_count": 0,
      "outputs": []
    },
    {
      "cell_type": "code",
      "metadata": {
        "id": "_DpNU7ewAHMw",
        "colab_type": "code",
        "outputId": "ab68e2d4-4791-494c-fe06-eb22c4f0d1a2",
        "colab": {
          "base_uri": "https://localhost:8080/",
          "height": 34
        }
      },
      "source": [
        "!ls"
      ],
      "execution_count": 9,
      "outputs": [
        {
          "output_type": "stream",
          "text": [
            "other  test  train\n"
          ],
          "name": "stdout"
        }
      ]
    },
    {
      "cell_type": "markdown",
      "metadata": {
        "id": "fOSLBORCiF-3",
        "colab_type": "text"
      },
      "source": [
        "## Definindo treino e teste"
      ]
    },
    {
      "cell_type": "code",
      "metadata": {
        "id": "p75ebTW_iE76",
        "colab_type": "code",
        "outputId": "5140760d-70a4-44c4-c3e8-0e2f3a706b6a",
        "colab": {
          "base_uri": "https://localhost:8080/",
          "height": 52
        }
      },
      "source": [
        "from keras.preprocessing.image import ImageDataGenerator\n",
        "\n",
        "traino_data_gen = ImageDataGenerator(rescale = 1./255,\n",
        "                                   shear_range = 0.2,\n",
        "                                   zoom_range = 0.2,\n",
        "                                   horizontal_flip = True)\n",
        "test_dataset = ImageDataGenerator(rescale = 1./255)\n",
        "treino_dataset = traino_data_gen.flow_from_directory('./train',\n",
        "                                                 target_size = (64, 64),\n",
        "                                                 batch_size = 32,\n",
        "                                                 class_mode = 'binary')\n",
        "\n",
        "test_data = test_dataset.flow_from_directory('./test',\n",
        "                                            target_size = (64, 64),\n",
        "                                            batch_size = 32,\n",
        "                                            class_mode = 'binary')\n",
        "\n"
      ],
      "execution_count": 10,
      "outputs": [
        {
          "output_type": "stream",
          "text": [
            "Found 3248 images belonging to 3 classes.\n",
            "Found 1621 images belonging to 3 classes.\n"
          ],
          "name": "stdout"
        }
      ]
    },
    {
      "cell_type": "markdown",
      "metadata": {
        "id": "7NN6h_h8iEA_",
        "colab_type": "text"
      },
      "source": [
        "## Treinando modelo"
      ]
    },
    {
      "cell_type": "code",
      "metadata": {
        "id": "zDILhV7Ugo0V",
        "colab_type": "code",
        "colab": {}
      },
      "source": [
        "from datetime import datetime "
      ],
      "execution_count": 0,
      "outputs": []
    },
    {
      "cell_type": "code",
      "metadata": {
        "id": "zCtez-qx_YOE",
        "colab_type": "code",
        "outputId": "e908e0b0-335a-4c83-8d10-85a0bf44eae0",
        "colab": {
          "base_uri": "https://localhost:8080/",
          "height": 237
        }
      },
      "source": [
        "start = datetime.now()\n",
        "clf.fit_generator(treino_dataset,\n",
        "                         steps_per_epoch = (100),\n",
        "                         epochs = 10,\n",
        "                         validation_data = test_data,\n",
        "                         validation_steps = 800)\n",
        "end = datetime.now()\n",
        "\n",
        "print(\"TEMPO TREINO: \",end - start,'\\nMODELO SALVO !')\n",
        "clf.save(\"suinoxV1Model.h5\")"
      ],
      "execution_count": 1,
      "outputs": [
        {
          "output_type": "error",
          "ename": "NameError",
          "evalue": "ignored",
          "traceback": [
            "\u001b[0;31m---------------------------------------------------------------------------\u001b[0m",
            "\u001b[0;31mNameError\u001b[0m                                 Traceback (most recent call last)",
            "\u001b[0;32m<ipython-input-1-9a4835e86e9c>\u001b[0m in \u001b[0;36m<module>\u001b[0;34m()\u001b[0m\n\u001b[0;32m----> 1\u001b[0;31m \u001b[0mstart\u001b[0m \u001b[0;34m=\u001b[0m \u001b[0mdatetime\u001b[0m\u001b[0;34m.\u001b[0m\u001b[0mnow\u001b[0m\u001b[0;34m(\u001b[0m\u001b[0;34m)\u001b[0m\u001b[0;34m\u001b[0m\u001b[0;34m\u001b[0m\u001b[0m\n\u001b[0m\u001b[1;32m      2\u001b[0m clf.fit_generator(treino_dataset,\n\u001b[1;32m      3\u001b[0m                          \u001b[0msteps_per_epoch\u001b[0m \u001b[0;34m=\u001b[0m \u001b[0;34m(\u001b[0m\u001b[0;36m100\u001b[0m\u001b[0;34m)\u001b[0m\u001b[0;34m,\u001b[0m\u001b[0;34m\u001b[0m\u001b[0;34m\u001b[0m\u001b[0m\n\u001b[1;32m      4\u001b[0m                          \u001b[0mepochs\u001b[0m \u001b[0;34m=\u001b[0m \u001b[0;36m10\u001b[0m\u001b[0;34m,\u001b[0m\u001b[0;34m\u001b[0m\u001b[0;34m\u001b[0m\u001b[0m\n\u001b[1;32m      5\u001b[0m                          \u001b[0mvalidation_data\u001b[0m \u001b[0;34m=\u001b[0m \u001b[0mtest_data\u001b[0m\u001b[0;34m,\u001b[0m\u001b[0;34m\u001b[0m\u001b[0;34m\u001b[0m\u001b[0m\n",
            "\u001b[0;31mNameError\u001b[0m: name 'datetime' is not defined"
          ]
        }
      ]
    },
    {
      "cell_type": "code",
      "metadata": {
        "id": "3qP2OX8ageuN",
        "colab_type": "code",
        "outputId": "82ad1b34-cc48-4c56-a48a-e33dde8efed8",
        "colab": {
          "base_uri": "https://localhost:8080/",
          "height": 34
        }
      },
      "source": [
        "y66677711111gbv'''''''''''''''!ls"
      ],
      "execution_count": 12,
      "outputs": [
        {
          "output_type": "stream",
          "text": [
            "other  test  train\n"
          ],
          "name": "stdout"
        }
      ]
    },
    {
      "cell_type": "code",
      "metadata": {
        "id": "u-YryyOVASl_",
        "colab_type": "code",
        "outputId": "016173fa-f228-4643-cb94-2536cd1b3fdb",
        "colab": {
          "base_uri": "https://localhost:8080/",
          "height": 73
        }
      },
      "source": [
        "\n",
        "from IPython.display import Image\n",
        "Image(\"j86BVMguzBFy5fY2wtpngP.jpg\")\n",
        "\n",
        "import numpy as np\n",
        "from keras.preprocessing import image\n",
        "test_ibage = image.load_img(\"j86BVMguzBFy5fY2wtpngP.jpg\", target_size = (64, 64))\n",
        "test_ibage = image.img_to_array(test_ibage)\n",
        "test_ibage = np.expand_dims(test_ibage, axis = 0)\n",
        "result = clf.predict(test_ibage)\n",
        "print(result)\n",
        "if result[0][0] == 1:\n",
        "    prediction = 'cat'\n",
        "else:\n",
        "    prediction = 'pig'\n",
        "    \n",
        "print(result)\n",
        "print(prediction)"
      ],
      "execution_count": 0,
      "outputs": [
        {
          "output_type": "stream",
          "text": [
            "[[0.]]\n",
            "[[0.]]\n",
            "pig\n"
          ],
          "name": "stdout"
        }
      ]
    },
    {
      "cell_type": "code",
      "metadata": {
        "id": "8fVPhhJugZK7",
        "colab_type": "code",
        "colab": {}
      },
      "source": [
        ""
      ],
      "execution_count": 0,
      "outputs": []
    }
  ]
}